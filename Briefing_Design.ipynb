{
  "nbformat": 4,
  "nbformat_minor": 0,
  "metadata": {
    "colab": {
      "provenance": [],
      "include_colab_link": true
    },
    "kernelspec": {
      "name": "python3",
      "display_name": "Python 3"
    },
    "language_info": {
      "name": "python"
    }
  },
  "cells": [
    {
      "cell_type": "markdown",
      "metadata": {
        "id": "view-in-github",
        "colab_type": "text"
      },
      "source": [
        "<a href=\"https://colab.research.google.com/github/Vulpardi/Projeto_Alura/blob/main/Briefing_Design.ipynb\" target=\"_parent\"><img src=\"https://colab.research.google.com/assets/colab-badge.svg\" alt=\"Open In Colab\"/></a>"
      ]
    },
    {
      "cell_type": "markdown",
      "source": [
        "Instalando o SDK do Google"
      ],
      "metadata": {
        "id": "VC0kFcGVH0QF"
      }
    },
    {
      "cell_type": "markdown",
      "source": [
        "#Criador de Briefing para designers"
      ],
      "metadata": {
        "id": "frQk-9ggOivz"
      }
    },
    {
      "cell_type": "code",
      "source": [
        "import pandas as pd"
      ],
      "metadata": {
        "id": "5LIK4zrIcX05"
      },
      "execution_count": null,
      "outputs": []
    },
    {
      "cell_type": "code",
      "source": [
        "!pip install -q -U google-generativeai"
      ],
      "metadata": {
        "id": "sNTByqmutN5s"
      },
      "execution_count": null,
      "outputs": []
    },
    {
      "cell_type": "code",
      "source": [
        "#Configurações iniciais\n",
        "import google.generativeai as genai\n",
        "\n",
        "GOOGLE_API_KEY=\"GOOGLE_API_KEY\"\n",
        "genai.configure(api_key=GOOGLE_API_KEY)"
      ],
      "metadata": {
        "id": "pnrf84M8Ounq"
      },
      "execution_count": null,
      "outputs": []
    },
    {
      "cell_type": "code",
      "source": [
        "#Listando os modelos disponíveis\n",
        "for m in genai.list_models():\n",
        "  if 'generateContent' in m.supported_generation_methods:\n",
        "    print(m.name)"
      ],
      "metadata": {
        "colab": {
          "base_uri": "https://localhost:8080/",
          "height": 146
        },
        "id": "8bi3sqLfOxaR",
        "outputId": "0281a3f7-8daa-4758-8954-da106eac3f16",
        "collapsed": true
      },
      "execution_count": null,
      "outputs": [
        {
          "output_type": "stream",
          "name": "stdout",
          "text": [
            "models/gemini-1.0-pro\n",
            "models/gemini-1.0-pro-001\n",
            "models/gemini-1.0-pro-latest\n",
            "models/gemini-1.0-pro-vision-latest\n",
            "models/gemini-1.5-pro-latest\n",
            "models/gemini-pro\n",
            "models/gemini-pro-vision\n"
          ]
        }
      ]
    },
    {
      "cell_type": "markdown",
      "source": [
        "Como o objetivo é criar briefings criativos e únicos que causem impacto no portfólio do designer, as configs foram alteradas para melhor performance da alucinação e os parâmetros de segurança foram alterados para prover melhores resultados."
      ],
      "metadata": {
        "id": "KMHMd6sztJVd"
      }
    },
    {
      "cell_type": "code",
      "source": [
        "#Criando parâmetros de Alucinação\n",
        "generation_config = {\n",
        "  \"candidate_count\": 1,\n",
        "  \"temperature\": 1,\n",
        "  \"max_output_tokens\" :1536,\n",
        "  \"top_k\" : 90,\n",
        "}"
      ],
      "metadata": {
        "id": "2IUG8GPnOy8i"
      },
      "execution_count": 42,
      "outputs": []
    },
    {
      "cell_type": "code",
      "source": [
        "#Alterando parâmetros de segurança\n",
        "safety_settings={\n",
        "    'HATE': 'BLOCK_LOW_AND_ABOVE',\n",
        "    'HARASSMENT': 'BLOCK_LOW_AND_ABOVE',\n",
        "    'SEXUAL' : 'BLOCK_NONE',\n",
        "    'DANGEROUS' : 'BLOCK_NONE'\n",
        "    }"
      ],
      "metadata": {
        "id": "MVkwHUleO0TB"
      },
      "execution_count": 38,
      "outputs": []
    },
    {
      "cell_type": "code",
      "source": [
        "model = genai.GenerativeModel(model_name='gemini-1.0-pro',\n",
        "                                  generation_config=generation_config,\n",
        "                                  safety_settings=safety_settings,)"
      ],
      "metadata": {
        "id": "K7jvPSqQPAzJ"
      },
      "execution_count": 43,
      "outputs": []
    },
    {
      "cell_type": "markdown",
      "source": [
        "# A partir dessa etapa, paramos de estabelecer as bases e começamos a elaborar o Prompt.\n",
        "\n",
        "*O Prompt final vai utilizar técnicas de Chain-Of-Thought para, através de uma amostra, conseguir criar briefings claros e impactantes para o portfólio.*\n",
        "\n",
        "A sequência para obter essa tabela foi a seguinte:\n",
        "\n",
        "1.   Treinar uma IA Generativa para elaborar bons briefings\n",
        "2.   Coletar uma quantidade suficiente para que surjam alguns padrões\n",
        "3.   Gerar no Gemini, através do Structured Point, uma lógica mais complexa para que mais amostras interessantes surjam\n",
        "4.  Editar as amostras recebidas reforçando seus pontos fortes e apagando os pontos fracos (/content/Briefings criativos.xlsx)\n",
        "5.  Requisitar que o próprio Gemini analisasse e criasse uma estrutura lógica interna para ser replicado (prompt +=)\n",
        "6.  Fazer as conexões dentro do Python para que fosse possível obter resultados satisfatórios integrando a própria estrutura de treinamento dentro do Gemini.\n"
      ],
      "metadata": {
        "id": "o9tAGSWZobN8"
      }
    },
    {
      "cell_type": "code",
      "source": [
        "df = pd.read_excel(\"./Briefings_criativos.xlsx\")\n",
        "df.head()"
      ],
      "metadata": {
        "colab": {
          "base_uri": "https://localhost:8080/",
          "height": 304
        },
        "id": "zHJD5Rn5b9Jj",
        "outputId": "d81f2440-cf65-4326-8e7c-3207d58cfbe9"
      },
      "execution_count": 45,
      "outputs": [
        {
          "output_type": "error",
          "ename": "FileNotFoundError",
          "evalue": "[Errno 2] No such file or directory: './Briefings_criativos.xlsx'",
          "traceback": [
            "\u001b[0;31m---------------------------------------------------------------------------\u001b[0m",
            "\u001b[0;31mFileNotFoundError\u001b[0m                         Traceback (most recent call last)",
            "\u001b[0;32m<ipython-input-45-bd9d54f97ba9>\u001b[0m in \u001b[0;36m<cell line: 1>\u001b[0;34m()\u001b[0m\n\u001b[0;32m----> 1\u001b[0;31m \u001b[0mdf\u001b[0m \u001b[0;34m=\u001b[0m \u001b[0mpd\u001b[0m\u001b[0;34m.\u001b[0m\u001b[0mread_excel\u001b[0m\u001b[0;34m(\u001b[0m\u001b[0;34m\"./Briefings_criativos.xlsx\"\u001b[0m\u001b[0;34m)\u001b[0m\u001b[0;34m\u001b[0m\u001b[0;34m\u001b[0m\u001b[0m\n\u001b[0m\u001b[1;32m      2\u001b[0m \u001b[0mdf\u001b[0m\u001b[0;34m.\u001b[0m\u001b[0mhead\u001b[0m\u001b[0;34m(\u001b[0m\u001b[0;34m)\u001b[0m\u001b[0;34m\u001b[0m\u001b[0;34m\u001b[0m\u001b[0m\n",
            "\u001b[0;32m/usr/local/lib/python3.10/dist-packages/pandas/io/excel/_base.py\u001b[0m in \u001b[0;36mread_excel\u001b[0;34m(io, sheet_name, header, names, index_col, usecols, dtype, engine, converters, true_values, false_values, skiprows, nrows, na_values, keep_default_na, na_filter, verbose, parse_dates, date_parser, date_format, thousands, decimal, comment, skipfooter, storage_options, dtype_backend)\u001b[0m\n\u001b[1;32m    476\u001b[0m     \u001b[0;32mif\u001b[0m \u001b[0;32mnot\u001b[0m \u001b[0misinstance\u001b[0m\u001b[0;34m(\u001b[0m\u001b[0mio\u001b[0m\u001b[0;34m,\u001b[0m \u001b[0mExcelFile\u001b[0m\u001b[0;34m)\u001b[0m\u001b[0;34m:\u001b[0m\u001b[0;34m\u001b[0m\u001b[0;34m\u001b[0m\u001b[0m\n\u001b[1;32m    477\u001b[0m         \u001b[0mshould_close\u001b[0m \u001b[0;34m=\u001b[0m \u001b[0;32mTrue\u001b[0m\u001b[0;34m\u001b[0m\u001b[0;34m\u001b[0m\u001b[0m\n\u001b[0;32m--> 478\u001b[0;31m         \u001b[0mio\u001b[0m \u001b[0;34m=\u001b[0m \u001b[0mExcelFile\u001b[0m\u001b[0;34m(\u001b[0m\u001b[0mio\u001b[0m\u001b[0;34m,\u001b[0m \u001b[0mstorage_options\u001b[0m\u001b[0;34m=\u001b[0m\u001b[0mstorage_options\u001b[0m\u001b[0;34m,\u001b[0m \u001b[0mengine\u001b[0m\u001b[0;34m=\u001b[0m\u001b[0mengine\u001b[0m\u001b[0;34m)\u001b[0m\u001b[0;34m\u001b[0m\u001b[0;34m\u001b[0m\u001b[0m\n\u001b[0m\u001b[1;32m    479\u001b[0m     \u001b[0;32melif\u001b[0m \u001b[0mengine\u001b[0m \u001b[0;32mand\u001b[0m \u001b[0mengine\u001b[0m \u001b[0;34m!=\u001b[0m \u001b[0mio\u001b[0m\u001b[0;34m.\u001b[0m\u001b[0mengine\u001b[0m\u001b[0;34m:\u001b[0m\u001b[0;34m\u001b[0m\u001b[0;34m\u001b[0m\u001b[0m\n\u001b[1;32m    480\u001b[0m         raise ValueError(\n",
            "\u001b[0;32m/usr/local/lib/python3.10/dist-packages/pandas/io/excel/_base.py\u001b[0m in \u001b[0;36m__init__\u001b[0;34m(self, path_or_buffer, engine, storage_options)\u001b[0m\n\u001b[1;32m   1494\u001b[0m                 \u001b[0mext\u001b[0m \u001b[0;34m=\u001b[0m \u001b[0;34m\"xls\"\u001b[0m\u001b[0;34m\u001b[0m\u001b[0;34m\u001b[0m\u001b[0m\n\u001b[1;32m   1495\u001b[0m             \u001b[0;32melse\u001b[0m\u001b[0;34m:\u001b[0m\u001b[0;34m\u001b[0m\u001b[0;34m\u001b[0m\u001b[0m\n\u001b[0;32m-> 1496\u001b[0;31m                 ext = inspect_excel_format(\n\u001b[0m\u001b[1;32m   1497\u001b[0m                     \u001b[0mcontent_or_path\u001b[0m\u001b[0;34m=\u001b[0m\u001b[0mpath_or_buffer\u001b[0m\u001b[0;34m,\u001b[0m \u001b[0mstorage_options\u001b[0m\u001b[0;34m=\u001b[0m\u001b[0mstorage_options\u001b[0m\u001b[0;34m\u001b[0m\u001b[0;34m\u001b[0m\u001b[0m\n\u001b[1;32m   1498\u001b[0m                 )\n",
            "\u001b[0;32m/usr/local/lib/python3.10/dist-packages/pandas/io/excel/_base.py\u001b[0m in \u001b[0;36minspect_excel_format\u001b[0;34m(content_or_path, storage_options)\u001b[0m\n\u001b[1;32m   1369\u001b[0m         \u001b[0mcontent_or_path\u001b[0m \u001b[0;34m=\u001b[0m \u001b[0mBytesIO\u001b[0m\u001b[0;34m(\u001b[0m\u001b[0mcontent_or_path\u001b[0m\u001b[0;34m)\u001b[0m\u001b[0;34m\u001b[0m\u001b[0;34m\u001b[0m\u001b[0m\n\u001b[1;32m   1370\u001b[0m \u001b[0;34m\u001b[0m\u001b[0m\n\u001b[0;32m-> 1371\u001b[0;31m     with get_handle(\n\u001b[0m\u001b[1;32m   1372\u001b[0m         \u001b[0mcontent_or_path\u001b[0m\u001b[0;34m,\u001b[0m \u001b[0;34m\"rb\"\u001b[0m\u001b[0;34m,\u001b[0m \u001b[0mstorage_options\u001b[0m\u001b[0;34m=\u001b[0m\u001b[0mstorage_options\u001b[0m\u001b[0;34m,\u001b[0m \u001b[0mis_text\u001b[0m\u001b[0;34m=\u001b[0m\u001b[0;32mFalse\u001b[0m\u001b[0;34m\u001b[0m\u001b[0;34m\u001b[0m\u001b[0m\n\u001b[1;32m   1373\u001b[0m     ) as handle:\n",
            "\u001b[0;32m/usr/local/lib/python3.10/dist-packages/pandas/io/common.py\u001b[0m in \u001b[0;36mget_handle\u001b[0;34m(path_or_buf, mode, encoding, compression, memory_map, is_text, errors, storage_options)\u001b[0m\n\u001b[1;32m    866\u001b[0m         \u001b[0;32melse\u001b[0m\u001b[0;34m:\u001b[0m\u001b[0;34m\u001b[0m\u001b[0;34m\u001b[0m\u001b[0m\n\u001b[1;32m    867\u001b[0m             \u001b[0;31m# Binary mode\u001b[0m\u001b[0;34m\u001b[0m\u001b[0;34m\u001b[0m\u001b[0m\n\u001b[0;32m--> 868\u001b[0;31m             \u001b[0mhandle\u001b[0m \u001b[0;34m=\u001b[0m \u001b[0mopen\u001b[0m\u001b[0;34m(\u001b[0m\u001b[0mhandle\u001b[0m\u001b[0;34m,\u001b[0m \u001b[0mioargs\u001b[0m\u001b[0;34m.\u001b[0m\u001b[0mmode\u001b[0m\u001b[0;34m)\u001b[0m\u001b[0;34m\u001b[0m\u001b[0;34m\u001b[0m\u001b[0m\n\u001b[0m\u001b[1;32m    869\u001b[0m         \u001b[0mhandles\u001b[0m\u001b[0;34m.\u001b[0m\u001b[0mappend\u001b[0m\u001b[0;34m(\u001b[0m\u001b[0mhandle\u001b[0m\u001b[0;34m)\u001b[0m\u001b[0;34m\u001b[0m\u001b[0;34m\u001b[0m\u001b[0m\n\u001b[1;32m    870\u001b[0m \u001b[0;34m\u001b[0m\u001b[0m\n",
            "\u001b[0;31mFileNotFoundError\u001b[0m: [Errno 2] No such file or directory: './Briefings_criativos.xlsx'"
          ]
        }
      ]
    },
    {
      "cell_type": "markdown",
      "source": [
        "A ultima linha do código deve ser alterada para os seguintes parâmetros:\n",
        "\n",
        "```\n",
        "PROMPT: Crie um briefing criativo com o tema ALEATÓRIO com foco em ALEATÓRIO\n",
        "```\n",
        "\n",
        "\n",
        "O tema vai definir de qual segmento irá se tratar o Briefing e o Foco irá definir quais as demandas deverão ser entregues, Então um tema de Saúde com Foco em Social Media  pode fornecer um resultado como: \"Criar 5 posts para um hospital\"\n",
        "\n"
      ],
      "metadata": {
        "id": "PPTRXGnAqmQE"
      }
    },
    {
      "cell_type": "code",
      "source": [
        "from re import X\n",
        "\n",
        "tema = input(\"Qual o tema do briefing? \")\n",
        "foco = input(\"Qual o foco do briefing? \")\n",
        "\n",
        "prompt = \"\"\n",
        "\n",
        "for i in range(df.shape[0]):\n",
        "  linha = df.iloc[i]\n",
        "  prompt += f\"\"\"\n",
        "  PROMPT: {linha[\"Comando:\"]}\n",
        "  Segmento: {linha[\"Segmento\"]}\n",
        "  Persona: {linha[\"Persona\"]}\n",
        "  Objetivo: {linha[\"Objetivo\"]}\n",
        "  Contexto: {linha[\"contexto\"]}\n",
        "  Briefing: {linha[\"Briefing\"]}\n",
        "  Desafio Extra: {linha[\"Desafio Extra\"]}\n",
        "  Marca: {linha[\"Marca\"]}\n",
        "\n",
        "  \"\"\"\n",
        "prompt += f\"\"\"\n",
        "Seja um designer sênior e utilize as informações para construir ideias de briefings perfeitos para designer iniciantes que precisam melhorar seus portfólios\n",
        "\n",
        "Os dados abaixo reúne diversas ideias de bons briefings para designer gráficos e apresenta dados e desafios com o intuito de melhorar o portfólio desses designers. Ele é composto por 8 campos, desses, o \"comando\" é o único que é realizado um \"input\" pelo usuário, os outros são apenas decorrências desse INPUT que possui duas variáveis, o TEMA que é de escolha livre do usuário e o FOCO que pode ser selecionado entre ALEATÓRIO, REDES SOCIAIS, PAPELARIA, EMBALAGEM. Quero que você analise essa planilha e me apresente uma ideia de Briefing:\n",
        "\n",
        "PROMPT: Comando que será fornecido.\n",
        "Segmento: Definido primariamente pelo TEMA, serve como base para o desenvolvimento dos demais elementos.\n",
        "Persona: Entender as características, necessidades e desejos do público é crucial para criar uma identidade visual e peças de comunicação eficazes.\n",
        "Objetivo: Definir o que a marca busca alcançar com a identidade visual e as peças de comunicação, norteando as decisões criativas.\n",
        "Contexto: Uma vez compreendido o Segmento, Persona e Objetivo, a descrição da marca se torna mais rica e precisa.\n",
        "Briefing: Com os elementos anteriores definidos, o briefing principal se torna claro e conciso, descrevendo as peças a serem criadas e os objetivos específicos de cada uma.\n",
        "Desafio Extra: Elabore restrições criativas ou sujira direcionamentos inusitados.\n",
        "Marca: O nome da marca pode ser definido após a criação do contexto, garantindo um nome que reflita a proposta de valor e o público-alvo.\n",
        "Peças de comunicação (Posts, Banners, Papelaria, Embalagem): Com todas as informações anteriores em mente, o designer pode criar uma quantidade de peças de comunicação visual que atendam aos objetivos da marca e ressoem com o público-alvo.\n",
        "\n",
        "Dadas essa estrutura eu posso elaborar o exemplo a seguir:\n",
        "\n",
        "PROMPT: Crie um briefing criativo com o tema JOGOS com foco em ALEATÓRIO\n",
        "Segmento: Videogames\n",
        "Persona: Paulo é um jovem de 25 anos e um ávido fã de jogos de corrida. Ele busca jogos que ofereçam gráficos impressionantes, física realista e uma jogabilidade envolvente que teste suas habilidades de condução. Paulo valoriza a inovação, a qualidade e a comunidade de jogadores que compartilham sua paixão por corridas virtuais.\n",
        "Objetivo:  A marca procura estabelecer-se como líder na indústria de jogos de corrida, atrair jogadores apaixonados por competições de alta velocidade e experiências de condução realistas.\n",
        "Contexto: A CodeMasters é uma marca reconhecida no desenvolvimento e publicação de jogos de corrida de alta qualidade, que proporcionam aos jogadores experiências emocionantes e realistas.\n",
        "Briefing: Desenvolva uma identidade visual completa para a CodeMasters. A identidade visual deve transmitir a natureza inovadora, envolvente e competitiva dos videogames de corrida.\n",
        "Desafio Extra: Incorporar elementos do automobilismo na identidade visual e evitar o uso de imagens de carros genéricos.\n",
        "Marca: CodeMasters\n",
        "Quantidade de peças: 1 cartães de visita, 1 papel timbrado, 1 caneca e 2 Posts\n",
        "\n",
        "PROMPT: Crie um briefing criativo com o tema {tema} com foco em {foco}\n",
        "\"\"\"\n",
        "print(prompt)"
      ],
      "metadata": {
        "colab": {
          "base_uri": "https://localhost:8080/"
        },
        "collapsed": true,
        "id": "WmMmme2Vdd9G",
        "outputId": "5a1e15ed-0811-41a5-f3c7-6881abb9037f"
      },
      "execution_count": 41,
      "outputs": [
        {
          "output_type": "stream",
          "name": "stdout",
          "text": [
            "Qual o tema do briefing? ALEATÓRIO\n",
            "Qual o foco do briefing? SOCIAL MEDIA\n",
            "\n",
            "  PROMPT: Crie um briefing criativo com o tema ALEATÓRIO com foco em REDES SOCIAIS\n",
            "  Segmento: Role-Playing Game (RPG)\n",
            "  Persona: Lucas é um jovem apaixonado por jogos de RPG e universos de fantasia desde a infância. Ele busca comunidades online onde possa se conectar com outros fãs, compartilhar suas experiências e encontrar inspiração para suas próprias aventuras. Lucas valoriza conteúdo visualmente impactante e criativo, que o transporte para mundos mágicos e emocionantes.\n",
            "  Objetivo: A marca busca atrair uma comunidade vibrante e engajada, então o conteúdo deve focar em gerar engajamento nas postagens e mensagens no direct da empresa.\n",
            "  Contexto: RealmCraft é uma comunidade online dedicada aos entusiastas de RPG e jogos de fantasia.\n",
            "  Briefing: Desenvolva uma identidade visual completa para RealmCraft, com 4 posts e 1 Banner digital. A identidade visual deve transmitir a magia, o mistério e a aventura dos RPGs.\n",
            "  Desafio Extra: Você não pode utilizar imagem de nenhuma criatura mágica e a paleta de cores deve conter Branco e Turquesa.\n",
            "  Marca: RealmCraft\n",
            "\n",
            "  \n",
            "  PROMPT: Crie um briefing criativo com o tema LIMPEZA com foco em ALEATÓRIO\n",
            "  Segmento: Produtos de Limpeza\n",
            "  Persona: Joana, uma mãe da classe A preocupada com a saúde da família e o impacto ambiental de produtos de limpeza convencionais. Ela busca alternativas seguras e sustentáveis para manter sua casa limpa sem comprometer a saúde de seus 2 filhos. Joana valoriza a transparência, a eficácia e a conveniência ao escolher produtos de limpeza para sua casa.\n",
            "  Objetivo: A marca busca atrair consumidores que valorizam a saúde, o bem-estar e a preservação do planeta com produtos de limpeza mais caros, porém seguros, eficientes e ecologicamente\n",
            "  Contexto: VitalEco é uma startup que traz uma abordagem sustentável e ecológica para seus produtos.\n",
            "  Briefing: Desenvolva uma identidade visual completa para VitalEco, com 1 papelaria e 4 posts. A identidade visual deve transmitir os valores de sustentabilidade, saúde e eficácia dos produtos da marca.\n",
            "  Desafio Extra: Utilize apenas cores dentro do espectro de verde e azul na paleta de cores e não utilize árvores na identidade visual.\n",
            "  Marca: VitalEco\n",
            "\n",
            "  \n",
            "  PROMPT: Crie um briefing criativo com o tema ALEATÓRIO com foco em ALEATÓRIO\n",
            "  Segmento: Moda\n",
            "  Persona: Carla tem 25 anos e sente necessidade de se expressar em seu visual. Ela está insatisfeita com o status quo e deseja se rebelar a todo custo contra o sistema. Carla gosta de se exibir e se sentir pertencente a algo maior que ela, então ela aprecia acessórios diferenciados e que exalte quem ela realmente é.\n",
            "  Objetivo: A marca busca atrair consumidores que estão cansados do minimalismo e querem expor mais sua personalidade rebelde através de lindos acessórios.\n",
            "  Contexto: SteamCraft é uma marca de acessórios de luxo com temática SteamPunk.\n",
            "  Briefing: Desenvolva uma identidade visual completa para SteamCraft, com 2 papelarias, 1 Outdoor e 2 posts. Explore materiais e acabamentos que reforcem a estética vintage e artesanal dos acessórios \"SteamCraft\", como couro envelhecido, metal oxidado e tecidos texturizados.\n",
            "  Desafio Extra: Crie um acessório único e exclusivo da marca e não utilize pedras preciosas.\n",
            "  Marca: SteamCraft\n",
            "\n",
            "  \n",
            "  PROMPT: Crie um briefing criativo com o tema ALEATÓRIO com foco em ALEATÓRIO\n",
            "  Segmento: Energético\n",
            "  Persona: Pedro tem 19 anos e busca um estilo de vida saudável e estão interessados ​​em opções de bebidas que ofereçam benefícios específicos para a saúde, como energia, imunidade ou relaxamento. Ele vai para a academia regularmente e ingere muitas vitaminas e suplementos. Pedro tem uma rotina agitada e faz uso constante de energéticos, porém eles interferem na sua dieta e deixam seu intestino desregulado, atualmente está buscando uma solução mais saudável. \n",
            "  Objetivo: A marca busca transmitir a sensação de frescor, pureza e qualidade dos ingredientes enquanto passa uma mensagem de energia e vitalidade.\n",
            "  Contexto: VitalBoost é uma marca de energéticos saudáveis.\n",
            "  Briefing: Desenvolva uma identidade visual completa além de uma campanha de lançamento da VitalBoost com 3 ações de TradeMarketing e 2 posts. Transmita uma mensagem de autenticidade, transparência e confiança aos consumidores, destacando os ingredientes naturais e frescos das bebidas \"VitalBoost\"\n",
            "  Desafio Extra: Utilize uma identidade visual minimalista e utilize cores vibrantes.\n",
            "  Marca: VitalBoost\n",
            "\n",
            "  \n",
            "  PROMPT: Crie um briefing criativo com o tema COSMÉTICO com foco em EMBALAGEM\n",
            "  Segmento: Cosméticos\n",
            "  Persona: Julie é uma mulher de 35 anos de classe média que valoriza a beleza natural e busca produtos que ofereçam resultados visíveis e duradouros. Ela se preocupa com a saúde da sua pele e prefere cosméticos livres de produtos químicos agressivos.\n",
            "  Objetivo: A marca busca atrair consumidoras que buscam produtos bem pigmentados e com excelentes resultados por um preço acessível.\n",
            "  Contexto: Glow Essentials é uma marca criada por uma blogueira que oferece uma experiência única e acessível.\n",
            "  Briefing: Desenvolva o design de embalagem para uma nova linha de produtos de cuidados com a pele chamada \"Glow Essentials\". Crie 3 Embalagens para essa linha e 2 posts. A identidade visual deve transmitir a inovação e o sensorial.\n",
            "  Desafio Extra: Crie embalagens com uma experiência tátil única e projetadas para ocupar o mínimo de espaço possível dentro de uma bolsa.\n",
            "  Marca: Glow Essentials\n",
            "\n",
            "  \n",
            "  PROMPT: Crie um briefing criativo com o tema ENTRETENIMENTO com foco em INFANTIL\n",
            "  Segmento: Entretenimento\n",
            "  Persona: Sofia é uma menina de 12 anos apaixonada por magia e ilusionismo. Ela busca experiências de entretenimento que despertem sua imaginação e a transportem para um mundo de fantasia e maravilha. Sofia valoriza a criatividade, a originalidade e a emoção de ser surpreendida por truques de magia e ilusões.\n",
            "  Objetivo: A marca busca atrair uma ampla audiência de todas as idades, promovendo espetáculos memoráveis e experiências únicas que deixarão uma impressão duradoura.\n",
            "  Contexto: ArteMágica é uma empresa de eventos e espetáculos de magia e ilusionismo.\n",
            "  Briefing: Desenvolva uma identidade visual completa e uma campanha de marketing para o público infantil que deve ter 1 Outdoor, 1 Panfleto e 3 posts.A identidade visual deve transmitir a emoção e o fascínio dos espetáculos ao vivo.\n",
            "  Desafio Extra: Justifique o uso de um elefante no logtipo da empresa e useo estilo artistico Art déco na identidade visual.\n",
            "  Marca: ArteMágica\n",
            "\n",
            "  \n",
            "  PROMPT: Crie um briefing criativo com o tema PET SHOP com foco em PAPELARIA\n",
            "  Segmento: PetShop\n",
            "  Persona: Ana é uma jovem profissional de 30 anos que considera seu shih tzu como parte da família. Ela busca produtos e serviços de qualidade que atendam às necessidades de seu animal de estimação, promovam seu bem-estar e facilitem sua rotina agitada. Ana valoriza marcas confiáveis, éticas e comprometidas com a saúde e a felicidade dos pets.\n",
            "  Objetivo: A marca busca estabelecer uma conexão emocional com os clientes, promovendo um estilo de vida saudável e feliz para os pets e fortalecendo os laços entre tutores e seus animais de estimação.\n",
            "  Contexto: PetPaws é uma empresa de produtos e serviços para animais de estimação de pequeno porte.\n",
            "  Briefing: Desenvolva uma identidade visual completa e 5 papelarias. A identidade visual deve transmitir a alegria, a energia e o carinho que os animais de estimação trazem para a vida de seus tutores.\n",
            "  Desafio Extra: Use uma tipografia no estilo manuscrita e não utilize vetores na identidade visual..\n",
            "  Marca: PetPaws\n",
            "\n",
            "  \n",
            "  PROMPT: Crie um briefing criativo com o tema ALEATÓRIO com foco em ALEATÓRIO\n",
            "  Segmento: Brinquedo\n",
            "  Persona: Elias é um homem de 40 anos que cresceu brincando com blocos de montar e sente falta da sua natureza lúdica. Ele valoriza a qualidade, a precisão e a durabilidade, e busca atividades que possam despertar sua criatividade e espírito competitivo. Elias quer se reconectar com seu lado infantil e encontrar uma forma de aliviar o estresse de seu trabalho exigente.\n",
            "  Objetivo: A marca busca atrair adultos que buscam um desafio divertido e criativo, oferecendo uma forma de aliviar o estresse, expressar sua imaginação e conectar-se com sua criança interior.\n",
            "  Contexto: EmpireBlocks é uma empresa de blocos de montar de tamanho padrão projetado para adultos.\n",
            "  Briefing: Desenvolva uma identidade visual completa além de uma campanha de lançamento da EmpireBlocks com 3 ações de TradeMarketing e 2 posts. Destaque a nostalgia, a qualidade e a infinidade de possibilidades oferecidas pelos blocos EmpireBlocks.\n",
            "  Desafio Extra: Crie um Challenge chamado \"Desafio EmpireBlocks\" e não use cores escuras.\n",
            "  Marca: EmpireBlocks\n",
            "\n",
            "  \n",
            "  PROMPT: Crie um briefing criativo com o tema ALEATÓRIO com foco em PAPELARIA\n",
            "  Segmento: Transportadora\n",
            "  Persona: Henrique tem 40 anos atua como gerente de suprimentos em uma grande empresa multinacional. Ele busca por fornecedores confiáveis que ofereçam soluções logísticas eficientes e seguras, cumprindo prazos e garantindo a integridade das mercadorias transportadas. Henrique valoriza marcas consolidadas no mercado, com experiência comprovada e infraestrutura adequada para atender às demandas de sua empresa.\n",
            "  Objetivo: A marca busca atrair clientes corporativos que precisam de uma transportadora confiável para seus processos logísticos.\n",
            "  Contexto: AUTOMASTER é uma transportadora focada em abastecer fábricas de empresas multinacionais\n",
            "  Briefing: Desenvolva uma identidade visual completa para AUTOMASTER, com 3 papelarias, 1 Envelope e 1 Cartão de Visita. A identidade visual deve transmitir a credibilidade, a segurança e a agilidade dos serviços da empresa.\n",
            "  Desafio Extra: A paleta de cores da identidade visual deve ser composta por azul escuro, laranja e branco, e não pode ser utilizada nenhuma tipografia serifada.\n",
            "  Marca: AUTOMASTER\n",
            "\n",
            "  \n",
            "  PROMPT: Crie um briefing criativo com o tema ALEATÓRIO com foco em ALEATÓRIO\n",
            "  Segmento: Site de Receitas\n",
            "  Persona: Maria é uma jovem de 28 anos que adora cozinhar como hobby. Ela valoriza a praticidade, a saúde e as receitas que utilizam ingredientes acessíveis e fáceis de preparar. Maria está sempre em busca de novas inspirações culinárias e gosta de compartilhar suas experiências gastronômicas com amigos e familiares.\n",
            "  Objetivo: A marca busca atrair apaixonados por cozinha prática e saudável que buscam uma plataforma com receitas confiáveis e inspiradoras.\n",
            "  Contexto: Chef&Spoon é uma comunidade que compartilha receitas de cozinha caseira prática e saudável.\n",
            "  Briefing: Desenvolva uma identidade visual completa com 3 posts e 2 banner digital para Chef&Spoon. A identidade visual deve transmitir a simplicidade, a praticidade e o prazer da culinária caseira.\n",
            "  Desafio Extra: A identidade visual deve utilizar apenas tipografias serifadas e o logo deve incluir um elemento humano que transmita a simpatia e o acolhimento da marca.\n",
            "  Marca: Chef&Spoon\n",
            "\n",
            "  \n",
            "  PROMPT: Crie um briefing criativo com o tema ALEATÓRIO com foco em EMBALAGEM\n",
            "  Segmento: Farmácia\n",
            "  Persona: Joana, 45 anos, busca uma vida saudável e equilibrada. Ela confia em marcas de medicamentos genéricos por sua qualidade e preço justo. Ao escolher suplementos nutricionais, Joana prioriza ingredientes naturais, eficácia comprovada e transparência na composição do produto. \n",
            "  Objetivo: A marca busca estabelecer uma conexão emocional com os clientes, promovendo a saúde e o bem-estar por meio de suplementos nutricionais acessíveis e confiáveis.\n",
            "  Contexto: VitalGuard é uma marca de medicamentos genéricos conhecida pela qualidade e acessibilidade de seus produtos.\n",
            "  Briefing: Desenvolva uma identidade visual completa e o design de embalagem para uma nova linha de suplementos nutricionais chamada \"VitalGuard+\". Crie 3 Embalagens para essa linha e 2 posts. A identidade visual deve transmitir a confiança, a qualidade e o cuidado da marca.\n",
            "  Desafio Extra: nan\n",
            "  Marca: VitalGuard\n",
            "\n",
            "  \n",
            "  PROMPT: Crie um briefing criativo com o tema ALEATÓRIO com foco em EMBALAGEM\n",
            "  Segmento: Brinquedo\n",
            "  Persona: Lucas, 35 anos, é um engenheiro que adora desafios mentais. Ele busca jogos de raciocínio lógico para exercitar a mente e se divertir nas horas vagas. Lucas valoriza a qualidade, a variedade e o apelo visual dos quebra-cabeças. \n",
            "  Objetivo: A marca busca atrair pessoas de todas as idades que buscam entretenimento inteligente, além de desenvolver suas capacidades mentais e criar memórias afetivas com familiares e amigos.\n",
            "  Contexto: PuzzleMania é uma loja de brinquedos especializada em quebra-cabeças de diversos tipos e tamanhos, com foco em desenvolver o raciocínio lógico e as habilidades cognitivas. \n",
            "  Briefing: Desenvolva uma identidade visual completa para a PuzzleMania, com 4 Embalagens para quebra-cabeças e 1 Panfleto institucional. A identidade visual deve transmitir a diversão, o desafio e o estímulo proporcionados pelos quebra-cabeças. \n",
            "  Desafio Extra: Crie um logotipo abstrato e não utilize imagens de pessoas na identidade visual.\n",
            "  Marca: PuzzleMania \n",
            "\n",
            "  \n",
            "  PROMPT: Crie um briefing criativo com o tema ALEATÓRIO com foco em EMBALAGEM\n",
            "  Segmento: Moda\n",
            "  Persona: Ana, uma jovem de 25 anos, pratica exercícios regularmente e busca roupas esportivas que permitam que ela se mova com liberdade e estilo. Ela valoriza marcas éticas e se preocupa com o impacto ambiental de sua rotina de exercícios. Ana está sempre em busca de roupas que ofereçam conforto e durabilidade, sem comprometer o design.\n",
            "  Objetivo: A marca busca conectar-se com pessoas que buscam roupas de ginástica sustentáveis, inclusivas e estilosas, fomentando a autoconfiança e o bem-estar.\n",
            "  Contexto: A SportiveSoul é uma marca de vestuário esportivo comprometida com a sustentabilidade, a diversidade e a inclusão.\n",
            "  Briefing: Desenvolva uma identidade visual completa para a SportiveSoul, com 5 embalagens para diferentes produtos da linha de ginástica. A identidade visual deve transmitir a potência, a liberdade e a consciência da marca.\n",
            "  Desafio Extra: O logotipo deve incorporar um símbolo relacionado a uma girafa e não pode utilizar as cores azul ou preto.\n",
            "  Marca: SportiveSoul\n",
            "\n",
            "  \n",
            "  PROMPT: Crie um briefing criativo com o tema ALEATÓRIO com foco em PAPELARIA\n",
            "  Segmento: E-Commerce\n",
            "  Persona: Camila tem 27 anos e é uma jovem ambientalista e apaixonada por culturas tradicionais. Ela busca produtos artesanais autênticos e sustentáveis que reflitam os valores de diferentes culturas. Camila valoriza a transparência, a história por trás dos produtos e a possibilidade de conectar-se com os artesãos.\n",
            "  Objetivo: A marca busca conectar pequenos artesãos à pessoas interessadas em preservar e valorizar a cultura de povos originários\n",
            "  Contexto: A Essence of Earth é uma plataforma de e-commerce que reúne artesãos de todo o mundo, oferecendo produtos únicos e sustentáveis.\n",
            "  Briefing: Desenvolva uma identidade visual completa para a Essence of Earth com 1 Cartão de visita, 1 Papel Timbrado, 1 Caneta e outras 2 Papelarias. A identidade visual deve comunicar: Diversidade cultural, sustentabilidade e autenticidade.\n",
            "  Desafio Extra: A identidade visual deve ser inspirada na arte indígena da tribo Xingu do Brasil e deve utilizar apenas três cores.\n",
            "  Marca: Essence of Earth\n",
            "\n",
            "  \n",
            "  PROMPT: Crie um briefing criativo com o tema ALEATÓRIO com foco em PAPELARIA\n",
            "  Segmento: Hardware\n",
            "  Persona: Pedro, de 30 anos, é um gamer dedicado e entusiasta em tecnologia. Ele busca hardware potente e confiável para aprimorar sua experiência de jogo. Pedro valoriza a inovação, o design e a qualidade dos produtos que utiliza para garantir a melhor performance possível.\n",
            "  Objetivo: A marca busca conectar-se com gamers e entusiastas da tecnologia, posicionando-se como líder em inovações eletrônicas e desempenho de ponta.\n",
            "  Contexto: A TechnoStar é uma empresa que desenvolve e fabrica Hardware e acessórios eletrônicos de alta tecnologia para o mercado gamer.\n",
            "  Briefing: Desenvolva uma identidade visual completa para a TechnoStar, com 1 Cartão de Visita, 1 Envelope, 2 Pastas e 1 Caneca. A identidade visual deve transmitir inovação, potência e precisão.\n",
            "  Desafio Extra: O logotipo não pode ter uma estrela e a identidade visual tem que conter algum animal.\n",
            "  Marca: TechnoStar\n",
            "\n",
            "  \n",
            "  PROMPT: Crie um briefing criativo com o tema ALEATÓRIO com foco em PAPELARIA\n",
            "  Segmento: Informática\n",
            "  Persona: Júlia, de 35 anos, é uma gerente de TI responsável por liderar projetos de transformação digital em sua empresa. Ela busca fornecedores de tecnologia que sejam capazes de entender as necessidades de seu negócio e entregar soluções eficazes. Júlia valoriza a inovação, a expertise técnica e a capacidade de executar projetos com sucesso.\n",
            "  Objetivo: A marca busca conectar-se com empresas e organizações que buscam soluções tecnológicas que atendam às suas necessidades específicas, posicionando-se como uma parceira confiável na transformação digital.\n",
            "  Contexto: A DigitalMind é uma empresa especializada em consultoria e desenvolvimento de soluções tecnológicas inovadoras.\n",
            "  Briefing: Desenvolva uma identidade visual completa para a DigitalMind com 5 papelarias. A identidade visual deve transmitir criatividade, inovação e conhecimento.\n",
            "  Desafio Extra: A identidade visual deve ser inspirada em padrões geométricos e não deve conter uma referência a um cérebro.\n",
            "  Marca: DigitalMind\n",
            "\n",
            "  \n",
            "  PROMPT: Crie um briefing criativo com o tema PRESERVAÇÃO com foco em PAPELARI\n",
            "  Segmento: Agência de Proteção Ambiental\n",
            "  Persona: Maria, de 40 anos, é uma ambientalista apaixonada e dedicada a fazer a diferença no mundo. Ela busca se conectar com organizações que compartilham seus valores e se engajar em ações significativas para proteger a natureza. Maria valoriza a confiança, a credibilidade e o impacto real que as iniciativas ambientais geram.\n",
            "  Objetivo: A marca busca conectar-se com pessoas e organizações comprometidas com a preservação do planeta, inspirando ações coletivas e fomentando um senso de responsabilidade ambiental.\n",
            "  Contexto: A Eco-Guardians é uma agência ambiental dedicada a promover a proteção e conservação da natureza.\n",
            "  Briefing: Desenvolva uma identidade visual completa para a Eco-Guardians com 4 papelarias e 1 post. A identidade visual deve transmitir a urgência, o cuidado e a responsabilidade de proteger o meio ambiente.\n",
            "  Desafio Extra: A identidade visual deve ser inspirada no fogo e não deve utilizar imagens de ícones ambientais comuns, como o globo ou a folha.\n",
            "  Marca: Eco-Guardians\n",
            "\n",
            "  \n",
            "  PROMPT: Crie um briefing criativo com o tema MÚSICA com foco em PAPELARIA\n",
            "  Segmento: Gravadora\n",
            "  Persona: João, um compositor de trilhas sonoras de 35 anos, cria música para filmes e videogames. Ele é apaixonado por criar peças musicais que transcendem os limites e inspiram o público. João procura uma gravadora que valorize sua visão criativa e apoie seus projetos musicais.\n",
            "  Objetivo: A gravadora busca conectar-se com compositores, músicos e profissionais da indústria de cinema e jogos, estabelecendo-se como um centro criativo para música épica.\n",
            "  Contexto: A Epic Symphony é uma gravadora independente especializada em trilhas sonoras cinemáticas e música épica.\n",
            "  Briefing: Desenvolva uma identidade visual completa para a Epic Symphony com 1 Papel Timbrado, 2 Cartões de Visita e 2 Postagens. A identidade visual deve refletir a grandeza, emoção e poder evocados pela música épica.\n",
            "  Desafio Extra: A identidade visual não deve apresentar instrumentos musicais e deve incorporar elementos que representem a vastidão e o poder da música épica\n",
            "  Marca: Epic Symphony\n",
            "\n",
            "  \n",
            "  PROMPT: Crie um briefing criativo com o tema ALEATÓRIO com foco em REDES SOCIAIS\n",
            "  Segmento: Lojas de Departamentos\n",
            "  Persona: Olivia, uma jovem de 25 anos, possui uma insaciável curiosidade e uma profunda afeição por objetos únicos e histórias esquecidas. Ela frequenta lojas de departamentos vintage e antiquários na esperança de descobrir tesouros escondidos. Olivia valoriza a autenticidade, o valor sentimental e o poder da imaginação.\n",
            "  Objetivo: A marca quer conectar-se com indivíduos excêntricos, colecionadores apaixonados e aqueles que buscam experiências de compra extraordinárias.\n",
            "  Contexto: Emporium of Wonders é uma loja de departamentos inspirada na Era Vitoriana, oferecendo uma variedade de mercadorias peculiares, curiosidades e itens colecionáveis.\n",
            "  Briefing: Desenvolva uma identidade visual completa e uma campanha para as redes sociais da Emporium of Wonders com 4 posts e 1 anúncio pago. A identidade visual deve transmitir o mistério, a nostalgia, e o encanto encontrado dentro da loja.\n",
            "  Desafio Extra: Incorporar elementos de taxidermia na identidade visual e evitar o uso de cores brilhantes.\n",
            "  Marca: Emporium of Wonders\n",
            "\n",
            "  \n",
            "  PROMPT: Crie um briefing criativo com o tema ALEATÓRIO com foco em ALEATÓRIO\n",
            "  Segmento: Moda\n",
            "  Persona: Pedro, de 28 anos, é um artista e designer com uma paixão por estilo gótico e cultura de faroeste. Ele valoriza a qualidade, a estética diferenciada e as peças únicas que reflitam sua personalidade. Pedro está sempre em busca de marcas que combinem rebeldia com elegância.\n",
            "  Objetivo: A marca busca atrair indivíduos ousados e confiantes que buscam expressar sua individualidade e senso de estilo através da moda.\n",
            "  Contexto: Outlaw Elegance é uma marca de streetwear premium inspirada no estilo gótico do Velho Oeste.\n",
            "  Briefing: Desenvolva uma identidade visual completa para a Outlaw Elegance com 1 Papel Timbrado, 2 Cartões de Visita e 3 Posts para redes sociais. A identidade visual deve transmitir a atitude rebelde, a estética sombria e a sofisticação da marca.\n",
            "  Desafio Extra: A identidade visual deve incorporar elementos de esoterismo e não pode utilizar caveiras ou cruzes.\n",
            "  Marca: Outlaw Eleganse\n",
            "\n",
            "  \n",
            "  PROMPT: Crie um briefing criativo com o tema ENTRETENIMENTO com foco em REDES SOCIAIS\n",
            "  Segmento: Shows de Teatro\n",
            "  Persona: Helena é uma jovem profissional de 30 anos com uma profunda paixão por teatro. Ela aprecia performances envolventes, cenários deslumbrantes e histórias que a fazem sonhar. Helena valoriza a qualidade artística, a criatividade e a capacidade de escapar para mundos diferentes através do poder do teatro.\n",
            "  Objetivo: A companhia busca conectar-se com amantes das artes, entusiastas do teatro e indivíduos que buscam experiências noturnas memoráveis.\n",
            "  Contexto: Moonlight Magic é uma companhia de teatro especializada em apresentações musicais intimistas e envolventes que transportam o público para mundos extraordinários.\n",
            "  Briefing: Desenvolva uma identidade visual completa e uma campanha para as redes sociais da Moonlight Magic com 3 posts e 2 anúncios pagos. A identidade visual deve transmitir a magia, o glamour e a emoção da experiência teatral.\n",
            "  Desafio Extra: Incorporar elementos de Art Nouveau na identidade visual e evitar o uso de imagens de máscaras ou atores.\n",
            "  Marca: Moonlight Magic\n",
            "\n",
            "  \n",
            "  PROMPT: Crie um briefing criativo com o tema ALEATÓRIO com foco em ALEATÓRIO\n",
            "  Segmento: Moda\n",
            "  Persona: Luna, uma jovem de 27 anos, é uma artista e amante da natureza com um forte interesse por práticas espirituais. Ela valoriza a beleza artesanal, as pedras naturais e as joias que carregam significado e propósito. Luna procura marcas que ressoem com sua busca por autodescoberta e conexão com o universo.\n",
            "  Objetivo: A marca visa atrair indivíduos espirituais, buscadores de significado e aqueles que buscam acessórios únicos e encantadores que expressem sua jornada interior.\n",
            "  Contexto: A Mystic Shimmer é uma marca de joias e acessórios inspirados na espiritualidade e no misticismo.\n",
            "  Briefing: Desenvolva uma identidade visual completa para a Mystic Shimmer, incluindo 1 Papel Timbrado, 2 Cartões de Visita e 2 Posts para redes sociais. A identidade visual deve transmitir a natureza etérea, cativante e cósmica da marca.\n",
            "  Desafio Extra: Incorporar elementos da geometria sagrada na identidade visual e evitar o uso de imagens de símbolos religiosos.\n",
            "  Marca: Mystic Shimmer\n",
            "\n",
            "  \n",
            "  PROMPT: Crie um briefing criativo com o tema BRINCADEIRA com foco em ALEATÓRIO\n",
            "  Segmento: Brinquedo\n",
            "  Persona: Clara é uma mãe de 35 anos que procura brinquedos que não apenas divirtam seu filho de 7 anos, mas também promovam seu desenvolvimento cognitivo e habilidades motoras finas. Ela valoriza a durabilidade, a qualidade do design e as experiências de aprendizado integradas. Clara está sempre em busca de marcas que compartilhem seu compromisso com a educação e o crescimento das crianças.\n",
            "  Objetivo: A marca busca se conectar com pais, educadores e crianças curiosas que valorizam o aprendizado lúdico, a criatividade e o desenvolvimento das habilidades do século XXI.\n",
            "  Contexto: Mastermind Machines é uma startup que desenvolve e fabrica brinquedos educativos de alta tecnologia que estimulam o aprendizado e a imaginação por meio de experiências práticas e imersivas.\n",
            "  Briefing: Desenvolva uma identidade visual completa para Mastermind Machines, abrangendo 1 Papel Timbrado, 1 Cartões de Visita, 2 Posts para redes sociais e 1 Banner de site. A identidade visual deve transmitir a natureza inovadora, envolvente e educacional dos brinquedos.\n",
            "  Desafio Extra: Incorporar elementos de realidade aumentada na identidade visual e evitar o uso de imagens de telas ou dispositivos eletrônicos.\n",
            "  Marca: Mastermind Machines\n",
            "\n",
            "  \n",
            "  PROMPT: Crie um briefing criativo com o tema CUECA com foco em ALEATÓRIO\n",
            "  Segmento: Moda\n",
            "  Persona: Pedro, 35 anos, é um empresário de sucesso que busca cuecas de qualidade que combinem conforto e estilo. Ele aprecia tecidos macios, cortes modernos e detalhes sutis que realçam sua masculinidade. Pedro valoriza marcas que oferecem produtos exclusivos e que estão alinhadas com seu estilo sofisticado.\n",
            "  Objetivo: A marca busca se conectar com homens seguros de si, que valorizam aparência, conforto e originalidade em suas roupas íntimas.\n",
            "  Contexto: A Mr.Chic é uma marca de cuecas premium voltada para homens modernos e ousados que buscam conforto, estilo e exclusividade.\n",
            "  Briefing: Desenvolva uma identidade visual completa para a Mr.Chic, incluindo 1 embalagem de cuecas e 3 posts para redes sociais e 1 banner digital. A identidade visual deve transmitir masculinidade, elegância e um toque de irreverência.\n",
            "  Desafio Extra: A identidade visual deve incorporar elementos gráficos inspirados na arte déco e evitar o uso de vetores.\n",
            "  Marca: Mr.Chic\n",
            "\n",
            "  \n",
            "  PROMPT: Crie um briefing criativo com o tema SAÚDE com foco em ALEATÓRIO\n",
            "  Segmento: Cuidados com a Pele\n",
            "  Persona: Letícia, uma jovem de 25 anos, busca soluções para a sua pele sensível e propensa a acne. Ela quer produtos que sejam gentis com a sua pele, mas ainda eficazes no tratamento de problemas de pele. Letícia valoriza produtos naturais e orgânicos e está sempre em busca de marcas que compartilhem seus valores de saúde e bem-estar.\n",
            "  Objetivo: A marca busca atrair consumidores que buscam produtos de cuidados com a pele limpos, eficazes e sem produtos químicos nocivos.\n",
            "  Contexto: Corpo Zen é uma marca de produtos de cuidados com a pele naturais que oferece soluções para uma pele saudável e radiante.\n",
            "  Briefing: Desenvolva uma identidade visual completa e uma campanha de marketing para o lançamento da nova linha de produtos \"Corpo Zen\". Crie 2 embalagens para os produtos da linha, 2 posts para as redes sociais e 1 banner digital. A identidade visual deve transmitir naturalidade, equilíbrio e cuidado.\n",
            "  Desafio Extra: A identidade visual deve incorporar elementos inspirados na tecnologia e evitar o uso de imagens de rostos ou pessoas.\n",
            "  Marca: Corpo Zen\n",
            "\n",
            "  \n",
            "Seja um designer sênior e utilize as informações para construir ideias de briefings perfeitos para designer iniciantes que precisam melhorar seus portfólios\n",
            "\n",
            "Os dados abaixo reúne diversas ideias de bons briefings para designer gráficos e apresenta dados e desafios com o intuito de melhorar o portfólio desses designers. Ele é composto por 8 campos, desses, o \"comando\" é o único que é realizado um \"input\" pelo usuário, os outros são apenas decorrências desse INPUT que possui duas variáveis, o TEMA que é de escolha livre do usuário e o FOCO que pode ser selecionado entre ALEATÓRIO, REDES SOCIAIS, PAPELARIA, EMBALAGEM. Quero que você analise essa planilha e me apresente uma ideia de Briefing:\n",
            "\n",
            "PROMPT: Comando que será fornecido.\n",
            "Segmento: Definido primariamente pelo TEMA, serve como base para o desenvolvimento dos demais elementos.\n",
            "Persona: Entender as características, necessidades e desejos do público é crucial para criar uma identidade visual e peças de comunicação eficazes.\n",
            "Objetivo: Definir o que a marca busca alcançar com a identidade visual e as peças de comunicação, norteando as decisões criativas.\n",
            "Contexto: Uma vez compreendido o Segmento, Persona e Objetivo, a descrição da marca se torna mais rica e precisa.\n",
            "Briefing: Com os elementos anteriores definidos, o briefing principal se torna claro e conciso, descrevendo as peças a serem criadas e os objetivos específicos de cada uma.\n",
            "Desafio Extra: Elabore restrições criativas ou sujira direcionamentos inusitados.\n",
            "Marca: O nome da marca pode ser definido após a criação do contexto, garantindo um nome que reflita a proposta de valor e o público-alvo.\n",
            "Peças de comunicação (Posts, Banners, Papelaria, Embalagem): Com todas as informações anteriores em mente, o designer pode criar uma quantidade de peças de comunicação visual que atendam aos objetivos da marca e ressoem com o público-alvo.\n",
            "\n",
            "Dadas essa estrutura eu posso elaborar o exemplo a seguir:\n",
            "\n",
            "PROMPT: Crie um briefing criativo com o tema JOGOS com foco em ALEATÓRIO\n",
            "Segmento: Videogames\n",
            "Persona: Paulo é um jovem de 25 anos e um ávido fã de jogos de corrida. Ele busca jogos que ofereçam gráficos impressionantes, física realista e uma jogabilidade envolvente que teste suas habilidades de condução. Paulo valoriza a inovação, a qualidade e a comunidade de jogadores que compartilham sua paixão por corridas virtuais.\n",
            "Objetivo:  A marca procura estabelecer-se como líder na indústria de jogos de corrida, atrair jogadores apaixonados por competições de alta velocidade e experiências de condução realistas.\n",
            "Contexto: A CodeMasters é uma marca reconhecida no desenvolvimento e publicação de jogos de corrida de alta qualidade, que proporcionam aos jogadores experiências emocionantes e realistas.\n",
            "Briefing: Desenvolva uma identidade visual completa para a CodeMasters. A identidade visual deve transmitir a natureza inovadora, envolvente e competitiva dos videogames de corrida.\n",
            "Desafio Extra: Incorporar elementos do automobilismo na identidade visual e evitar o uso de imagens de carros genéricos.\n",
            "Marca: CodeMasters\n",
            "Quantidade de peças: 1 cartães de visita, 1 papel timbrado, 1 caneca e 2 Posts\n",
            "\n",
            "PROMPT: Crie um briefing criativo com o tema ALEATÓRIO com foco em SOCIAL MEDIA\n",
            "\n"
          ]
        }
      ]
    },
    {
      "cell_type": "code",
      "source": [],
      "metadata": {
        "id": "bDKa3rBFhkL8"
      },
      "execution_count": null,
      "outputs": []
    },
    {
      "cell_type": "markdown",
      "source": [
        "# E esse é o resultado final..."
      ],
      "metadata": {
        "id": "Yorz63A5qLDF"
      }
    },
    {
      "cell_type": "code",
      "source": [
        "response = model.generate_content(prompt)\n",
        "print(response.text)"
      ],
      "metadata": {
        "colab": {
          "base_uri": "https://localhost:8080/",
          "height": 176
        },
        "id": "0pR5ccIlf4f7",
        "outputId": "54e5200c-f7d5-45dc-d9f4-b92ab402d558"
      },
      "execution_count": 44,
      "outputs": [
        {
          "output_type": "stream",
          "name": "stdout",
          "text": [
            "Segmento: Cozinha Gourmet\n",
            "Persona: Rafaela é uma cozinheira amadora apaixonada por experimentar novos sabores e receitas. Ela busca equipamentos de cozinha de alta qualidade que possam ajudá-la a elevar suas habilidades culinárias. Rafaela valoriza a funcionalidade, o design elegante e a durabilidade dos utensílios de cozinha, e está sempre procurando por marcas que compartilhem sua paixão pela gastronomia.\n",
            "Objetivo: A marca busca atrair cozinheiros amadores e entusiastas que buscam utensílios de cozinha confiáveis e inspiradores para aprimorar sua jornada culinária.\n",
            "Contexto: Chef's Haven é uma marca dedicada ao fornecimento de utensílios de cozinha premium para cozinheiros amadores e profissionais. Seus produtos combinam qualidade excepcional com design inovador, atendendo às necessidades e aspirações dos apaixonados por culinária.\n",
            "Briefing: Desenvolva uma identidade visual completa e uma campanha para as redes sociais da Chef's Haven. A identidade visual deve transmitir a qualidade, a inovação e a paixão da marca pela culinária.\n",
            "Desafio Extra: Incorporar elementios de cozinha molecular na identidade visual e evitar o uso de imagens de alimentos preparados.\n",
            "Marca: Chef's Haven\n",
            "Peças de Comunicação: 4 posts, 1 anúncio e 1 capa para o perfil do Instagram\n"
          ]
        }
      ]
    },
    {
      "cell_type": "markdown",
      "source": [],
      "metadata": {
        "id": "6gVquUDwYUD_"
      }
    }
  ]
}